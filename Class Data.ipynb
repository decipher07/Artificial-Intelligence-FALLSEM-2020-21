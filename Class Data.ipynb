{
 "cells": [
  {
   "cell_type": "markdown",
   "metadata": {},
   "source": [
    "# Importing Essential Libraries"
   ]
  },
  {
   "cell_type": "code",
   "execution_count": 25,
   "metadata": {},
   "outputs": [],
   "source": [
    "import numpy as np\n",
    "import pandas as pd\n",
    "import seaborn as sns\n",
    "import matplotlib.pyplot as plt\n",
    "from sklearn.model_selection import train_test_split\n",
    "from sklearn.feature_extraction.text import CountVectorizer\n",
    "from sklearn.metrics import classification_report,confusion_matrix\n",
    "from sklearn.naive_bayes import MultinomialNB\n",
    "import warnings\n",
    "warnings.filterwarnings('ignore')"
   ]
  },
  {
   "cell_type": "markdown",
   "metadata": {},
   "source": [
    "# Importing Dataset"
   ]
  },
  {
   "cell_type": "code",
   "execution_count": 26,
   "metadata": {},
   "outputs": [
    {
     "data": {
      "text/html": [
       "<div>\n",
       "<style scoped>\n",
       "    .dataframe tbody tr th:only-of-type {\n",
       "        vertical-align: middle;\n",
       "    }\n",
       "\n",
       "    .dataframe tbody tr th {\n",
       "        vertical-align: top;\n",
       "    }\n",
       "\n",
       "    .dataframe thead th {\n",
       "        text-align: right;\n",
       "    }\n",
       "</style>\n",
       "<table border=\"1\" class=\"dataframe\">\n",
       "  <thead>\n",
       "    <tr style=\"text-align: right;\">\n",
       "      <th></th>\n",
       "      <th>Timestamp</th>\n",
       "      <th>Reg No.</th>\n",
       "      <th>review</th>\n",
       "      <th>polarity</th>\n",
       "      <th>Unnamed: 4</th>\n",
       "    </tr>\n",
       "  </thead>\n",
       "  <tbody>\n",
       "    <tr>\n",
       "      <th>0</th>\n",
       "      <td>2021/11/15 5:11:37 pm GMT+5:30</td>\n",
       "      <td>19BBS0202</td>\n",
       "      <td>I like it</td>\n",
       "      <td>1</td>\n",
       "      <td>NaN</td>\n",
       "    </tr>\n",
       "    <tr>\n",
       "      <th>1</th>\n",
       "      <td>2021/11/15 5:21:33 pm GMT+5:30</td>\n",
       "      <td>19BBS0104</td>\n",
       "      <td>I enjoyed the subject thoroughly</td>\n",
       "      <td>1</td>\n",
       "      <td>NaN</td>\n",
       "    </tr>\n",
       "    <tr>\n",
       "      <th>2</th>\n",
       "      <td>2021/11/15 5:21:53 pm GMT+5:30</td>\n",
       "      <td>19BBS0184</td>\n",
       "      <td>I don't understand the concepts very well it i...</td>\n",
       "      <td>0</td>\n",
       "      <td>NaN</td>\n",
       "    </tr>\n",
       "    <tr>\n",
       "      <th>3</th>\n",
       "      <td>2021/11/15 5:22:25 pm GMT+5:30</td>\n",
       "      <td>19BBS0076</td>\n",
       "      <td>I have found the class interesting</td>\n",
       "      <td>1</td>\n",
       "      <td>NaN</td>\n",
       "    </tr>\n",
       "    <tr>\n",
       "      <th>4</th>\n",
       "      <td>2021/11/15 5:22:42 pm GMT+5:30</td>\n",
       "      <td>19BBS0058</td>\n",
       "      <td>I loved the class and it was very informative.</td>\n",
       "      <td>1</td>\n",
       "      <td>NaN</td>\n",
       "    </tr>\n",
       "    <tr>\n",
       "      <th>...</th>\n",
       "      <td>...</td>\n",
       "      <td>...</td>\n",
       "      <td>...</td>\n",
       "      <td>...</td>\n",
       "      <td>...</td>\n",
       "    </tr>\n",
       "    <tr>\n",
       "      <th>58</th>\n",
       "      <td>2021/11/16 8:42:19 am GMT+5:30</td>\n",
       "      <td>19BBS0158</td>\n",
       "      <td>I loved the class and learned a lot</td>\n",
       "      <td>1</td>\n",
       "      <td>NaN</td>\n",
       "    </tr>\n",
       "    <tr>\n",
       "      <th>59</th>\n",
       "      <td>2021/11/16 8:42:40 am GMT+5:30</td>\n",
       "      <td>19BBS0158</td>\n",
       "      <td>I was bored and it was difficult to understand</td>\n",
       "      <td>0</td>\n",
       "      <td>NaN</td>\n",
       "    </tr>\n",
       "    <tr>\n",
       "      <th>60</th>\n",
       "      <td>2021/11/16 8:42:47 am GMT+5:30</td>\n",
       "      <td>19BBS0152</td>\n",
       "      <td>Very interesting class with a lot of challengi...</td>\n",
       "      <td>1</td>\n",
       "      <td>NaN</td>\n",
       "    </tr>\n",
       "    <tr>\n",
       "      <th>61</th>\n",
       "      <td>2021/11/16 8:44:10 am GMT+5:30</td>\n",
       "      <td>19BBBS0128</td>\n",
       "      <td>The class was interesting</td>\n",
       "      <td>1</td>\n",
       "      <td>NaN</td>\n",
       "    </tr>\n",
       "    <tr>\n",
       "      <th>62</th>\n",
       "      <td>2021/11/16 8:44:35 am GMT+5:30</td>\n",
       "      <td>19BBS0128</td>\n",
       "      <td>It was hard</td>\n",
       "      <td>0</td>\n",
       "      <td>NaN</td>\n",
       "    </tr>\n",
       "  </tbody>\n",
       "</table>\n",
       "<p>63 rows × 5 columns</p>\n",
       "</div>"
      ],
      "text/plain": [
       "                         Timestamp     Reg No.  \\\n",
       "0   2021/11/15 5:11:37 pm GMT+5:30   19BBS0202   \n",
       "1   2021/11/15 5:21:33 pm GMT+5:30   19BBS0104   \n",
       "2   2021/11/15 5:21:53 pm GMT+5:30   19BBS0184   \n",
       "3   2021/11/15 5:22:25 pm GMT+5:30   19BBS0076   \n",
       "4   2021/11/15 5:22:42 pm GMT+5:30   19BBS0058   \n",
       "..                             ...         ...   \n",
       "58  2021/11/16 8:42:19 am GMT+5:30   19BBS0158   \n",
       "59  2021/11/16 8:42:40 am GMT+5:30   19BBS0158   \n",
       "60  2021/11/16 8:42:47 am GMT+5:30   19BBS0152   \n",
       "61  2021/11/16 8:44:10 am GMT+5:30  19BBBS0128   \n",
       "62  2021/11/16 8:44:35 am GMT+5:30   19BBS0128   \n",
       "\n",
       "                                               review  polarity  Unnamed: 4  \n",
       "0                                           I like it         1         NaN  \n",
       "1                    I enjoyed the subject thoroughly         1         NaN  \n",
       "2   I don't understand the concepts very well it i...         0         NaN  \n",
       "3                  I have found the class interesting         1         NaN  \n",
       "4      I loved the class and it was very informative.         1         NaN  \n",
       "..                                                ...       ...         ...  \n",
       "58                I loved the class and learned a lot         1         NaN  \n",
       "59     I was bored and it was difficult to understand         0         NaN  \n",
       "60  Very interesting class with a lot of challengi...         1         NaN  \n",
       "61                         The class was interesting          1         NaN  \n",
       "62                                        It was hard         0         NaN  \n",
       "\n",
       "[63 rows x 5 columns]"
      ]
     },
     "execution_count": 26,
     "metadata": {},
     "output_type": "execute_result"
    }
   ],
   "source": [
    "df = pd.read_csv(\"classdata.csv\",encoding='mac_roman')\n",
    "df"
   ]
  },
  {
   "cell_type": "markdown",
   "metadata": {},
   "source": [
    "# Cleaning the Data"
   ]
  },
  {
   "cell_type": "code",
   "execution_count": 27,
   "metadata": {},
   "outputs": [
    {
     "data": {
      "text/html": [
       "<div>\n",
       "<style scoped>\n",
       "    .dataframe tbody tr th:only-of-type {\n",
       "        vertical-align: middle;\n",
       "    }\n",
       "\n",
       "    .dataframe tbody tr th {\n",
       "        vertical-align: top;\n",
       "    }\n",
       "\n",
       "    .dataframe thead th {\n",
       "        text-align: right;\n",
       "    }\n",
       "</style>\n",
       "<table border=\"1\" class=\"dataframe\">\n",
       "  <thead>\n",
       "    <tr style=\"text-align: right;\">\n",
       "      <th></th>\n",
       "      <th>review</th>\n",
       "      <th>polarity</th>\n",
       "    </tr>\n",
       "  </thead>\n",
       "  <tbody>\n",
       "    <tr>\n",
       "      <th>0</th>\n",
       "      <td>I like it</td>\n",
       "      <td>1</td>\n",
       "    </tr>\n",
       "    <tr>\n",
       "      <th>1</th>\n",
       "      <td>I enjoyed the subject thoroughly</td>\n",
       "      <td>1</td>\n",
       "    </tr>\n",
       "    <tr>\n",
       "      <th>2</th>\n",
       "      <td>I don't understand the concepts very well it i...</td>\n",
       "      <td>0</td>\n",
       "    </tr>\n",
       "    <tr>\n",
       "      <th>3</th>\n",
       "      <td>I have found the class interesting</td>\n",
       "      <td>1</td>\n",
       "    </tr>\n",
       "    <tr>\n",
       "      <th>4</th>\n",
       "      <td>I loved the class and it was very informative.</td>\n",
       "      <td>1</td>\n",
       "    </tr>\n",
       "    <tr>\n",
       "      <th>...</th>\n",
       "      <td>...</td>\n",
       "      <td>...</td>\n",
       "    </tr>\n",
       "    <tr>\n",
       "      <th>58</th>\n",
       "      <td>I loved the class and learned a lot</td>\n",
       "      <td>1</td>\n",
       "    </tr>\n",
       "    <tr>\n",
       "      <th>59</th>\n",
       "      <td>I was bored and it was difficult to understand</td>\n",
       "      <td>0</td>\n",
       "    </tr>\n",
       "    <tr>\n",
       "      <th>60</th>\n",
       "      <td>Very interesting class with a lot of challengi...</td>\n",
       "      <td>1</td>\n",
       "    </tr>\n",
       "    <tr>\n",
       "      <th>61</th>\n",
       "      <td>The class was interesting</td>\n",
       "      <td>1</td>\n",
       "    </tr>\n",
       "    <tr>\n",
       "      <th>62</th>\n",
       "      <td>It was hard</td>\n",
       "      <td>0</td>\n",
       "    </tr>\n",
       "  </tbody>\n",
       "</table>\n",
       "<p>63 rows × 2 columns</p>\n",
       "</div>"
      ],
      "text/plain": [
       "                                               review  polarity\n",
       "0                                           I like it         1\n",
       "1                    I enjoyed the subject thoroughly         1\n",
       "2   I don't understand the concepts very well it i...         0\n",
       "3                  I have found the class interesting         1\n",
       "4      I loved the class and it was very informative.         1\n",
       "..                                                ...       ...\n",
       "58                I loved the class and learned a lot         1\n",
       "59     I was bored and it was difficult to understand         0\n",
       "60  Very interesting class with a lot of challengi...         1\n",
       "61                         The class was interesting          1\n",
       "62                                        It was hard         0\n",
       "\n",
       "[63 rows x 2 columns]"
      ]
     },
     "execution_count": 27,
     "metadata": {},
     "output_type": "execute_result"
    }
   ],
   "source": [
    "df = df.drop(['Timestamp','Reg No.','Unnamed: 4'] , axis=1 )\n",
    "df"
   ]
  },
  {
   "cell_type": "code",
   "execution_count": 28,
   "metadata": {},
   "outputs": [
    {
     "data": {
      "text/html": [
       "<div>\n",
       "<style scoped>\n",
       "    .dataframe tbody tr th:only-of-type {\n",
       "        vertical-align: middle;\n",
       "    }\n",
       "\n",
       "    .dataframe tbody tr th {\n",
       "        vertical-align: top;\n",
       "    }\n",
       "\n",
       "    .dataframe thead th {\n",
       "        text-align: right;\n",
       "    }\n",
       "</style>\n",
       "<table border=\"1\" class=\"dataframe\">\n",
       "  <thead>\n",
       "    <tr style=\"text-align: right;\">\n",
       "      <th></th>\n",
       "      <th>review</th>\n",
       "      <th>polarity</th>\n",
       "    </tr>\n",
       "  </thead>\n",
       "  <tbody>\n",
       "    <tr>\n",
       "      <th>0</th>\n",
       "      <td>i like it</td>\n",
       "      <td>1</td>\n",
       "    </tr>\n",
       "    <tr>\n",
       "      <th>1</th>\n",
       "      <td>i enjoyed the subject thoroughly</td>\n",
       "      <td>1</td>\n",
       "    </tr>\n",
       "    <tr>\n",
       "      <th>2</th>\n",
       "      <td>i don't understand the concepts very well it i...</td>\n",
       "      <td>0</td>\n",
       "    </tr>\n",
       "    <tr>\n",
       "      <th>3</th>\n",
       "      <td>i have found the class interesting</td>\n",
       "      <td>1</td>\n",
       "    </tr>\n",
       "    <tr>\n",
       "      <th>4</th>\n",
       "      <td>i loved the class and it was very informative.</td>\n",
       "      <td>1</td>\n",
       "    </tr>\n",
       "    <tr>\n",
       "      <th>...</th>\n",
       "      <td>...</td>\n",
       "      <td>...</td>\n",
       "    </tr>\n",
       "    <tr>\n",
       "      <th>58</th>\n",
       "      <td>i loved the class and learned a lot</td>\n",
       "      <td>1</td>\n",
       "    </tr>\n",
       "    <tr>\n",
       "      <th>59</th>\n",
       "      <td>i was bored and it was difficult to understand</td>\n",
       "      <td>0</td>\n",
       "    </tr>\n",
       "    <tr>\n",
       "      <th>60</th>\n",
       "      <td>very interesting class with a lot of challengi...</td>\n",
       "      <td>1</td>\n",
       "    </tr>\n",
       "    <tr>\n",
       "      <th>61</th>\n",
       "      <td>the class was interesting</td>\n",
       "      <td>1</td>\n",
       "    </tr>\n",
       "    <tr>\n",
       "      <th>62</th>\n",
       "      <td>it was hard</td>\n",
       "      <td>0</td>\n",
       "    </tr>\n",
       "  </tbody>\n",
       "</table>\n",
       "<p>63 rows × 2 columns</p>\n",
       "</div>"
      ],
      "text/plain": [
       "                                               review  polarity\n",
       "0                                           i like it         1\n",
       "1                    i enjoyed the subject thoroughly         1\n",
       "2   i don't understand the concepts very well it i...         0\n",
       "3                  i have found the class interesting         1\n",
       "4      i loved the class and it was very informative.         1\n",
       "..                                                ...       ...\n",
       "58                i loved the class and learned a lot         1\n",
       "59     i was bored and it was difficult to understand         0\n",
       "60  very interesting class with a lot of challengi...         1\n",
       "61                          the class was interesting         1\n",
       "62                                        it was hard         0\n",
       "\n",
       "[63 rows x 2 columns]"
      ]
     },
     "execution_count": 28,
     "metadata": {},
     "output_type": "execute_result"
    }
   ],
   "source": [
    "df['review'] = df['review'].str.strip().str.lower()\n",
    "df"
   ]
  },
  {
   "cell_type": "markdown",
   "metadata": {},
   "source": [
    "# Defining Training and Testing Data"
   ]
  },
  {
   "cell_type": "code",
   "execution_count": 29,
   "metadata": {},
   "outputs": [],
   "source": [
    "x = df['review']\n",
    "y = df['polarity']\n",
    "x_train, x_test, y_train, y_test = train_test_split(x,y, stratify=y, test_size=0.25, random_state=20)\n",
    "\n",
    "# print(\" Training Data : \", x_train )\n",
    "# print(\" Training Data y : \", y_train )\n",
    "# print(\" Testing Data : \", x_test)\n",
    "# print(\" Testing Data Y : \", y_test)"
   ]
  },
  {
   "cell_type": "markdown",
   "metadata": {},
   "source": [
    "# Data Normalisation"
   ]
  },
  {
   "cell_type": "code",
   "execution_count": 30,
   "metadata": {},
   "outputs": [],
   "source": [
    "bow_vectorizer = CountVectorizer(stop_words='english')\n",
    "x = bow_vectorizer.fit_transform(x).toarray()\n",
    "x_test = bow_vectorizer.transform(x_test).toarray()"
   ]
  },
  {
   "cell_type": "markdown",
   "metadata": {},
   "source": [
    "# Training Model"
   ]
  },
  {
   "cell_type": "code",
   "execution_count": 31,
   "metadata": {},
   "outputs": [
    {
     "name": "stdout",
     "output_type": "stream",
     "text": [
      "0.875\n"
     ]
    }
   ],
   "source": [
    "model = MultinomialNB()\n",
    "model.fit(x, y)\n",
    "print (model.score(x_test, y_test))"
   ]
  },
  {
   "cell_type": "markdown",
   "metadata": {},
   "source": [
    "# Prediction"
   ]
  },
  {
   "cell_type": "code",
   "execution_count": 32,
   "metadata": {},
   "outputs": [],
   "source": [
    "y_pred = model.predict(x_test)"
   ]
  },
  {
   "cell_type": "markdown",
   "metadata": {},
   "source": [
    "# Classification Report"
   ]
  },
  {
   "cell_type": "code",
   "execution_count": 33,
   "metadata": {},
   "outputs": [
    {
     "name": "stdout",
     "output_type": "stream",
     "text": [
      "              precision    recall  f1-score   support\n",
      "\n",
      "           0       0.78      1.00      0.88         7\n",
      "           1       1.00      0.78      0.88         9\n",
      "\n",
      "    accuracy                           0.88        16\n",
      "   macro avg       0.89      0.89      0.88        16\n",
      "weighted avg       0.90      0.88      0.88        16\n",
      "\n"
     ]
    }
   ],
   "source": [
    "print(classification_report(y_test, y_pred))"
   ]
  },
  {
   "cell_type": "markdown",
   "metadata": {},
   "source": [
    "# Confusion Matrix"
   ]
  },
  {
   "cell_type": "code",
   "execution_count": 34,
   "metadata": {},
   "outputs": [
    {
     "data": {
      "text/plain": [
       "<AxesSubplot:>"
      ]
     },
     "execution_count": 34,
     "metadata": {},
     "output_type": "execute_result"
    },
    {
     "data": {
      "image/png": "[encoded data removed]",
      "text/plain": [
       "<Figure size 432x288 with 2 Axes>"
      ]
     },
     "metadata": {
      "needs_background": "light"
     },
     "output_type": "display_data"
    }
   ],
   "source": [
    "cm=confusion_matrix(y_test,y_pred,labels=[1,0])\n",
    "sns.heatmap(cm, annot=True, fmt = '.2f')"
   ]
  },
  {
   "cell_type": "markdown",
   "metadata": {},
   "source": [
    "# Individual Test Data"
   ]
  },
  {
   "cell_type": "code",
   "execution_count": 35,
   "metadata": {},
   "outputs": [
    {
     "name": "stdout",
     "output_type": "stream",
     "text": [
      "the sir is good\n",
      "Predicted Class: 1\n",
      "\n",
      "\n",
      "the sir is bad\n",
      "Predicted Class: 0\n",
      "\n",
      "\n"
     ]
    }
   ],
   "source": [
    "test_data_class = [\"the sir is good\", \"the sir is bad\"]\n",
    "for i in test_data_class :\n",
    "    print(i)\n",
    "    print(\"Predicted Class: \" + str(model.predict(bow_vectorizer.transform([i]))[0]))\n",
    "    print('\\n')"
   ]
  },
  {
   "cell_type": "markdown",
   "metadata": {},
   "source": [
    "# Accuracy"
   ]
  },
  {
   "cell_type": "code",
   "execution_count": 36,
   "metadata": {},
   "outputs": [
    {
     "name": "stdout",
     "output_type": "stream",
     "text": [
      "Accuracy is :  0.875\n",
      "Precision is :  1.0\n",
      "Recall Score is :  0.7777777777777778\n"
     ]
    }
   ],
   "source": [
    "from sklearn.metrics import accuracy_score, precision_score, recall_score\n",
    "\n",
    "print(\"Accuracy is : \",  accuracy_score(y_test, y_pred))\n",
    "print(\"Precision is : \", precision_score(y_test, y_pred))\n",
    "print(\"Recall Score is : \", recall_score(y_test, y_pred))"
   ]
  },
  {
   "cell_type": "code",
   "execution_count": null,
   "metadata": {},
   "outputs": [],
   "source": []
  }
 ],
 "metadata": {
  "interpreter": {
   "hash": "6faa5796b5ce76002e2d5bc41eeb6e044c8f8e1c736cc98e622b4c9baa3b0183"
  },
  "kernelspec": {
   "display_name": "Python 3.7.6 64-bit ('base': conda)",
   "language": "python",
   "name": "python3"
  },
  "language_info": {
   "codemirror_mode": {
    "name": "ipython",
    "version": 3
   },
   "file_extension": ".py",
   "mimetype": "text/x-python",
   "name": "python",
   "nbconvert_exporter": "python",
   "pygments_lexer": "ipython3",
   "version": "3.7.6"
  },
  "orig_nbformat": 4
 },
 "nbformat": 4,
 "nbformat_minor": 2
}
